{
 "cells": [
  {
   "cell_type": "code",
   "execution_count": 1,
   "metadata": {},
   "outputs": [],
   "source": [
    "# Support Vector Machine (SVM)\n",
    "\n",
    "# Importing the libraries\n",
    "import numpy as np\n",
    "import matplotlib.pyplot as plt\n",
    "import pandas as pd"
   ]
  },
  {
   "cell_type": "code",
   "execution_count": 2,
   "metadata": {},
   "outputs": [],
   "source": [
    "# Importing the dataset\n",
    "df = pd.read_csv(\"C:/Users/tanma/PuneSeason17CleanedData.csv\")\n",
    "dfm=df.iloc[:-14,:]\n",
    "dfv=df.iloc[1837:,:]"
   ]
  },
  {
   "cell_type": "code",
   "execution_count": 3,
   "metadata": {},
   "outputs": [],
   "source": [
    "xm=dfm.iloc[:,1:]\n",
    "ym=dfm.iloc[:,0]"
   ]
  },
  {
   "cell_type": "code",
   "execution_count": 31,
   "metadata": {},
   "outputs": [],
   "source": [
    "xt=dfv.iloc[:,1:]\n",
    "yt=dfv.iloc[:,0]"
   ]
  },
  {
   "cell_type": "code",
   "execution_count": 5,
   "metadata": {},
   "outputs": [
    {
     "name": "stderr",
     "output_type": "stream",
     "text": [
      "C:\\Users\\tanma\\Anaconda3\\lib\\site-packages\\sklearn\\cross_validation.py:41: DeprecationWarning: This module was deprecated in version 0.18 in favor of the model_selection module into which all the refactored classes and functions are moved. Also note that the interface of the new CV iterators are different from that of this module. This module will be removed in 0.20.\n",
      "  \"This module will be removed in 0.20.\", DeprecationWarning)\n"
     ]
    }
   ],
   "source": [
    "# Splitting the dataset into the Training set and Test set\n",
    "from sklearn.cross_validation import train_test_split\n",
    "x_train,x_test,y_train,y_test=train_test_split(xm,ym,test_size=0.1,random_state =1)"
   ]
  },
  {
   "cell_type": "code",
   "execution_count": 22,
   "metadata": {},
   "outputs": [],
   "source": [
    "# Feature Scaling\n",
    "from sklearn.preprocessing import StandardScaler\n",
    "sc = StandardScaler()\n",
    "x_train = sc.fit_transform(x_train)\n",
    "x_test = sc.transform(x_test)"
   ]
  },
  {
   "cell_type": "code",
   "execution_count": 23,
   "metadata": {},
   "outputs": [
    {
     "data": {
      "text/plain": [
       "SVC(C=1.0, cache_size=200, class_weight=None, coef0=0.0,\n",
       "  decision_function_shape='ovr', degree=3, gamma='auto', kernel='linear',\n",
       "  max_iter=-1, probability=True, random_state=0, shrinking=True, tol=0.001,\n",
       "  verbose=False)"
      ]
     },
     "execution_count": 23,
     "metadata": {},
     "output_type": "execute_result"
    }
   ],
   "source": [
    "# Fitting SVM to the Training set\n",
    "from sklearn.svm import SVC\n",
    "classifier = SVC(kernel = 'linear', random_state = 0, probability= True)\n",
    "classifier.fit(x_train, y_train)"
   ]
  },
  {
   "cell_type": "code",
   "execution_count": 24,
   "metadata": {},
   "outputs": [],
   "source": [
    "# Predicting the Test set results\n",
    "y_pred = classifier.predict(x_test)"
   ]
  },
  {
   "cell_type": "code",
   "execution_count": 25,
   "metadata": {},
   "outputs": [
    {
     "data": {
      "text/plain": [
       "array([[9.92035149e-01, 7.96485077e-03],\n",
       "       [3.00000090e-14, 1.00000000e+00],\n",
       "       [9.99999862e-01, 1.38489819e-07],\n",
       "       [9.99999900e-01, 1.00000010e-07],\n",
       "       [9.99999900e-01, 1.00000010e-07],\n",
       "       [9.99845621e-01, 1.54378532e-04],\n",
       "       [9.99588433e-01, 4.11567087e-04],\n",
       "       [9.98201997e-01, 1.79800326e-03],\n",
       "       [9.99999900e-01, 1.00000010e-07],\n",
       "       [9.99841196e-01, 1.58803846e-04],\n",
       "       [9.99999900e-01, 1.00000010e-07],\n",
       "       [9.99999900e-01, 1.00000010e-07],\n",
       "       [9.99999900e-01, 1.00000010e-07],\n",
       "       [9.99999900e-01, 1.00000010e-07],\n",
       "       [9.99999900e-01, 1.00000010e-07],\n",
       "       [6.27021847e-10, 9.99999999e-01],\n",
       "       [9.85403040e-01, 1.45969598e-02],\n",
       "       [9.99995167e-01, 4.83284050e-06],\n",
       "       [2.61151018e-12, 1.00000000e+00],\n",
       "       [2.62143192e-13, 1.00000000e+00],\n",
       "       [3.00000090e-14, 1.00000000e+00],\n",
       "       [9.99999900e-01, 1.00000010e-07],\n",
       "       [3.00000090e-14, 1.00000000e+00],\n",
       "       [9.99977868e-01, 2.21316270e-05],\n",
       "       [1.47663188e-01, 8.52336812e-01],\n",
       "       [9.25073460e-01, 7.49265395e-02],\n",
       "       [9.99999900e-01, 1.00000010e-07],\n",
       "       [1.28909774e-05, 9.99987109e-01],\n",
       "       [9.20072728e-01, 7.99272724e-02],\n",
       "       [9.99999900e-01, 1.00000010e-07],\n",
       "       [2.06511444e-11, 1.00000000e+00],\n",
       "       [9.99999900e-01, 1.00000010e-07],\n",
       "       [9.99999900e-01, 1.00000010e-07],\n",
       "       [9.27613829e-01, 7.23861712e-02],\n",
       "       [9.99999900e-01, 1.00000010e-07],\n",
       "       [9.99999900e-01, 1.00000010e-07],\n",
       "       [9.99999900e-01, 1.00000010e-07],\n",
       "       [9.99999900e-01, 1.00000010e-07],\n",
       "       [9.99999900e-01, 1.00000010e-07],\n",
       "       [9.99999491e-01, 5.09059753e-07],\n",
       "       [9.99999900e-01, 1.00000010e-07],\n",
       "       [5.96493414e-01, 4.03506586e-01],\n",
       "       [8.93237709e-01, 1.06762291e-01],\n",
       "       [9.99999900e-01, 1.00000010e-07],\n",
       "       [9.99999900e-01, 1.00000010e-07],\n",
       "       [2.46807957e-09, 9.99999998e-01],\n",
       "       [6.54809182e-01, 3.45190818e-01],\n",
       "       [9.99999900e-01, 1.00000010e-07],\n",
       "       [9.99999900e-01, 1.00000010e-07],\n",
       "       [3.00000090e-14, 1.00000000e+00],\n",
       "       [9.99999900e-01, 1.00000010e-07],\n",
       "       [9.99999900e-01, 1.00000010e-07],\n",
       "       [1.63507295e-06, 9.99998365e-01],\n",
       "       [9.99129542e-01, 8.70458068e-04],\n",
       "       [9.99999900e-01, 1.00000010e-07],\n",
       "       [8.39891720e-01, 1.60108280e-01],\n",
       "       [5.27136734e-11, 1.00000000e+00],\n",
       "       [9.99999900e-01, 1.00000010e-07],\n",
       "       [9.99999900e-01, 1.00000010e-07],\n",
       "       [3.00000090e-14, 1.00000000e+00],\n",
       "       [9.99999900e-01, 1.00000010e-07],\n",
       "       [9.99999900e-01, 1.00000010e-07],\n",
       "       [7.85816186e-09, 9.99999992e-01],\n",
       "       [9.99999900e-01, 1.00000010e-07],\n",
       "       [9.99999900e-01, 1.00000010e-07],\n",
       "       [9.49911103e-10, 9.99999999e-01],\n",
       "       [9.99999900e-01, 1.00000010e-07],\n",
       "       [9.99999900e-01, 1.00000010e-07],\n",
       "       [9.77527217e-01, 2.24727829e-02],\n",
       "       [9.55132896e-01, 4.48671039e-02],\n",
       "       [9.99999900e-01, 1.00000010e-07],\n",
       "       [9.99999900e-01, 1.00000010e-07],\n",
       "       [1.26268793e-06, 9.99998737e-01],\n",
       "       [9.99999900e-01, 1.00000010e-07],\n",
       "       [9.99999900e-01, 1.00000010e-07],\n",
       "       [9.99999900e-01, 1.00000010e-07],\n",
       "       [9.99999857e-01, 1.43399400e-07],\n",
       "       [9.99999900e-01, 1.00000010e-07],\n",
       "       [9.99978051e-01, 2.19490166e-05],\n",
       "       [9.99999900e-01, 1.00000010e-07],\n",
       "       [2.84713357e-03, 9.97152866e-01],\n",
       "       [9.99999900e-01, 1.00000010e-07],\n",
       "       [9.99955817e-01, 4.41826091e-05],\n",
       "       [2.51917871e-02, 9.74808213e-01],\n",
       "       [1.79372892e-02, 9.82062711e-01],\n",
       "       [9.99999900e-01, 1.00000010e-07],\n",
       "       [9.99979140e-01, 2.08598291e-05],\n",
       "       [9.99999900e-01, 1.00000010e-07],\n",
       "       [9.99998263e-01, 1.73673491e-06],\n",
       "       [9.99992023e-01, 7.97656305e-06],\n",
       "       [1.67504299e-06, 9.99998325e-01],\n",
       "       [9.99999900e-01, 1.00000010e-07],\n",
       "       [9.99999900e-01, 1.00000010e-07],\n",
       "       [9.99999537e-01, 4.62939493e-07],\n",
       "       [9.99999900e-01, 1.00000010e-07],\n",
       "       [7.63895117e-02, 9.23610488e-01],\n",
       "       [9.99999900e-01, 1.00000010e-07],\n",
       "       [9.99999895e-01, 1.05037085e-07],\n",
       "       [9.99999900e-01, 1.00000010e-07],\n",
       "       [9.99998803e-01, 1.19690567e-06],\n",
       "       [1.42713383e-05, 9.99985729e-01],\n",
       "       [9.99999900e-01, 1.00000010e-07],\n",
       "       [9.93281042e-01, 6.71895788e-03],\n",
       "       [9.99999900e-01, 1.00000010e-07],\n",
       "       [1.59540003e-08, 9.99999984e-01],\n",
       "       [9.99999900e-01, 1.00000010e-07],\n",
       "       [9.99999900e-01, 1.00000010e-07],\n",
       "       [9.99999900e-01, 1.00000010e-07],\n",
       "       [9.99999900e-01, 1.00000010e-07],\n",
       "       [9.99967910e-01, 3.20897518e-05],\n",
       "       [9.99007066e-01, 9.92933699e-04],\n",
       "       [3.00000090e-14, 1.00000000e+00],\n",
       "       [9.99999767e-01, 2.33447049e-07],\n",
       "       [3.70442648e-09, 9.99999996e-01],\n",
       "       [9.99998842e-01, 1.15784582e-06],\n",
       "       [9.99997411e-01, 2.58854600e-06],\n",
       "       [9.99999900e-01, 1.00000010e-07],\n",
       "       [9.99999900e-01, 1.00000010e-07],\n",
       "       [3.00000090e-14, 1.00000000e+00],\n",
       "       [3.00000090e-14, 1.00000000e+00],\n",
       "       [1.06123198e-01, 8.93876802e-01],\n",
       "       [9.99999900e-01, 1.00000010e-07],\n",
       "       [9.99992230e-01, 7.77027027e-06],\n",
       "       [1.02635092e-02, 9.89736491e-01],\n",
       "       [3.00000090e-14, 1.00000000e+00],\n",
       "       [9.99999900e-01, 1.00000010e-07],\n",
       "       [9.99999510e-01, 4.90437904e-07],\n",
       "       [9.99999900e-01, 1.00000010e-07],\n",
       "       [9.99999900e-01, 1.00000010e-07],\n",
       "       [9.99995002e-01, 4.99776930e-06],\n",
       "       [9.99999784e-01, 2.16085360e-07],\n",
       "       [9.99838421e-01, 1.61579279e-04],\n",
       "       [9.99999900e-01, 1.00000010e-07],\n",
       "       [9.99999900e-01, 1.00000010e-07],\n",
       "       [9.99999900e-01, 1.00000010e-07],\n",
       "       [9.99999900e-01, 1.00000010e-07],\n",
       "       [3.00000090e-14, 1.00000000e+00],\n",
       "       [9.99999900e-01, 1.00000010e-07],\n",
       "       [9.99999900e-01, 1.00000010e-07],\n",
       "       [3.00000090e-14, 1.00000000e+00],\n",
       "       [9.99999359e-01, 6.41333006e-07],\n",
       "       [9.99999900e-01, 1.00000010e-07],\n",
       "       [9.99999900e-01, 1.00000010e-07],\n",
       "       [9.99712280e-01, 2.87719555e-04],\n",
       "       [9.99999900e-01, 1.00000010e-07],\n",
       "       [9.99751321e-01, 2.48678623e-04],\n",
       "       [9.93739744e-01, 6.26025635e-03],\n",
       "       [3.00000090e-14, 1.00000000e+00],\n",
       "       [9.96232675e-01, 3.76732514e-03],\n",
       "       [9.99999900e-01, 1.00000010e-07],\n",
       "       [9.99994804e-01, 5.19599193e-06],\n",
       "       [9.99999900e-01, 1.00000010e-07],\n",
       "       [9.99999900e-01, 1.00000010e-07],\n",
       "       [9.99999900e-01, 1.00000010e-07],\n",
       "       [9.99999900e-01, 1.00000010e-07],\n",
       "       [7.47581403e-01, 2.52418597e-01],\n",
       "       [9.99999900e-01, 1.00000010e-07],\n",
       "       [9.99999900e-01, 1.00000010e-07],\n",
       "       [1.10632144e-01, 8.89367856e-01],\n",
       "       [9.93199028e-01, 6.80097179e-03],\n",
       "       [9.99999900e-01, 1.00000010e-07],\n",
       "       [9.55440733e-01, 4.45592668e-02],\n",
       "       [3.00000090e-14, 1.00000000e+00],\n",
       "       [2.09977734e-01, 7.90022266e-01],\n",
       "       [2.34102576e-08, 9.99999977e-01],\n",
       "       [9.99999900e-01, 1.00000010e-07],\n",
       "       [9.96615286e-01, 3.38471380e-03],\n",
       "       [9.99999900e-01, 1.00000010e-07],\n",
       "       [2.29793196e-13, 1.00000000e+00],\n",
       "       [9.92744668e-01, 7.25533188e-03],\n",
       "       [2.42900268e-06, 9.99997571e-01],\n",
       "       [9.99946194e-01, 5.38063152e-05],\n",
       "       [9.99999900e-01, 1.00000010e-07],\n",
       "       [9.99999900e-01, 1.00000010e-07],\n",
       "       [9.99999900e-01, 1.00000010e-07],\n",
       "       [9.99999900e-01, 1.00000010e-07],\n",
       "       [9.99999900e-01, 1.00000010e-07],\n",
       "       [5.25885880e-13, 1.00000000e+00],\n",
       "       [6.17473090e-02, 9.38252691e-01],\n",
       "       [9.99999900e-01, 1.00000010e-07],\n",
       "       [9.92238932e-01, 7.76106813e-03],\n",
       "       [9.99999900e-01, 1.00000010e-07],\n",
       "       [4.13358114e-01, 5.86641886e-01],\n",
       "       [9.99999900e-01, 1.00000010e-07]])"
      ]
     },
     "execution_count": 25,
     "metadata": {},
     "output_type": "execute_result"
    }
   ],
   "source": [
    "y_predprob=classifier.predict_proba(x_test)\n",
    "y_predprob"
   ]
  },
  {
   "cell_type": "code",
   "execution_count": 26,
   "metadata": {},
   "outputs": [],
   "source": [
    "# Making the Confusion Matrix\n",
    "from sklearn.metrics import confusion_matrix\n",
    "cm = confusion_matrix(y_test, y_pred)"
   ]
  },
  {
   "cell_type": "code",
   "execution_count": 27,
   "metadata": {},
   "outputs": [
    {
     "data": {
      "text/plain": [
       "array([[164,   0],\n",
       "       [ 20,   0]], dtype=int64)"
      ]
     },
     "execution_count": 27,
     "metadata": {},
     "output_type": "execute_result"
    }
   ],
   "source": [
    "cm"
   ]
  },
  {
   "cell_type": "code",
   "execution_count": 28,
   "metadata": {},
   "outputs": [
    {
     "data": {
      "text/plain": [
       "164"
      ]
     },
     "execution_count": 28,
     "metadata": {},
     "output_type": "execute_result"
    }
   ],
   "source": [
    "from sklearn.metrics import accuracy_score\n",
    "accuracy_score(y_test, y_pred, normalize=False)"
   ]
  },
  {
   "cell_type": "code",
   "execution_count": 29,
   "metadata": {},
   "outputs": [
    {
     "name": "stdout",
     "output_type": "stream",
     "text": [
      "0.5\n"
     ]
    }
   ],
   "source": [
    "from sklearn.metrics import roc_auc_score\n",
    "print( roc_auc_score(y_test, y_pred) )"
   ]
  },
  {
   "cell_type": "code",
   "execution_count": 33,
   "metadata": {},
   "outputs": [
    {
     "data": {
      "text/plain": [
       "array([0, 0, 0, 0, 0, 0, 0, 0, 0, 0, 0, 0, 0, 0], dtype=int64)"
      ]
     },
     "execution_count": 33,
     "metadata": {},
     "output_type": "execute_result"
    }
   ],
   "source": [
    "# Predicting the Unseen set results\n",
    "y_predun = classifier.predict(xt)\n",
    "y_predun"
   ]
  },
  {
   "cell_type": "code",
   "execution_count": 34,
   "metadata": {},
   "outputs": [
    {
     "data": {
      "text/plain": [
       "array([[9.99999900e-01, 1.00000010e-07],\n",
       "       [3.00000090e-14, 1.00000000e+00],\n",
       "       [9.99999900e-01, 1.00000010e-07],\n",
       "       [9.99999900e-01, 1.00000010e-07],\n",
       "       [9.99999035e-01, 9.64539265e-07],\n",
       "       [9.99999900e-01, 1.00000010e-07],\n",
       "       [1.64334450e-01, 8.35665550e-01],\n",
       "       [9.99999900e-01, 1.00000010e-07],\n",
       "       [9.99999900e-01, 1.00000010e-07],\n",
       "       [8.57062908e-10, 9.99999999e-01],\n",
       "       [9.98860782e-01, 1.13921760e-03],\n",
       "       [9.86891963e-01, 1.31080374e-02],\n",
       "       [9.99996634e-01, 3.36602558e-06],\n",
       "       [9.99999900e-01, 1.00000010e-07]])"
      ]
     },
     "execution_count": 34,
     "metadata": {},
     "output_type": "execute_result"
    }
   ],
   "source": [
    "y_predprobun =classifier.predict_proba(xt)\n",
    "y_predprobun"
   ]
  },
  {
   "cell_type": "code",
   "execution_count": null,
   "metadata": {},
   "outputs": [],
   "source": []
  }
 ],
 "metadata": {
  "kernelspec": {
   "display_name": "Python 3",
   "language": "python",
   "name": "python3"
  },
  "language_info": {
   "codemirror_mode": {
    "name": "ipython",
    "version": 3
   },
   "file_extension": ".py",
   "mimetype": "text/x-python",
   "name": "python",
   "nbconvert_exporter": "python",
   "pygments_lexer": "ipython3",
   "version": "3.6.5"
  }
 },
 "nbformat": 4,
 "nbformat_minor": 2
}
